{
 "cells": [
  {
   "cell_type": "markdown",
   "id": "7615f348",
   "metadata": {},
   "source": [
    "# 4a. Alpha-Beta Pruning"
   ]
  },
  {
   "cell_type": "code",
   "execution_count": 2,
   "id": "e188244a",
   "metadata": {},
   "outputs": [],
   "source": [
    "def alphabeta(depth, nodeIndex, maximizingPlayer, values, alpha, beta, path):\n",
    "    if depth == 3:\n",
    "        return values[nodeIndex], path + [nodeIndex]\n",
    "\n",
    "    if maximizingPlayer:\n",
    "        best = float('-inf')\n",
    "        best_path = []\n",
    "        for i in range(2):\n",
    "            val, new_path = alphabeta(depth + 1, nodeIndex * 2 + i, False, values, alpha, beta, path + [nodeIndex])\n",
    "            if val > best:\n",
    "                best = val\n",
    "                best_path = new_path\n",
    "            alpha = max(alpha, best)\n",
    "            if beta <= alpha:\n",
    "                break\n",
    "        return best, best_path\n",
    "    else:\n",
    "        best = float('inf')\n",
    "        best_path = []\n",
    "        for i in range(2):\n",
    "            val, new_path = alphabeta(depth + 1, nodeIndex * 2 + i, True, values, alpha, beta, path + [nodeIndex])\n",
    "            if val < best:\n",
    "                best = val\n",
    "                best_path = new_path\n",
    "            beta = min(beta, best)\n",
    "            if beta <= alpha:\n",
    "                break\n",
    "        return best, best_path"
   ]
  },
  {
   "cell_type": "code",
   "execution_count": 4,
   "id": "f83fff04",
   "metadata": {},
   "outputs": [
    {
     "name": "stdout",
     "output_type": "stream",
     "text": [
      "The optimal value is: 12\n",
      "The path taken is: [0, 1, 2, 4]\n"
     ]
    }
   ],
   "source": [
    "# Example tree with depth 3 and 8 terminal nodes\n",
    "values = [3, 5, 2, 9, 12, 5, 23, 23]\n",
    "\n",
    "# Start the Alpha-Beta Pruning algorithm\n",
    "optimal_value, optimal_path = alphabeta(0, 0, True, values, float('-inf'), float('inf'), [])\n",
    "print(\"The optimal value is:\", optimal_value)\n",
    "print(\"The path taken is:\", optimal_path)"
   ]
  },
  {
   "cell_type": "markdown",
   "id": "08af1a7b",
   "metadata": {},
   "source": [
    "# 4b. Box Plot"
   ]
  },
  {
   "cell_type": "code",
   "execution_count": 5,
   "id": "b6eac2f4",
   "metadata": {},
   "outputs": [],
   "source": [
    "import pandas as pd\n",
    "import matplotlib.pyplot as plt"
   ]
  },
  {
   "cell_type": "code",
   "execution_count": 17,
   "id": "9158e788",
   "metadata": {},
   "outputs": [
    {
     "data": {
      "image/png": "[encoded data removed]",
      "text/plain": [
       "<Figure size 500x400 with 1 Axes>"
      ]
     },
     "metadata": {},
     "output_type": "display_data"
    }
   ],
   "source": [
    "data=pd.read_csv('./corolla.csv')\n",
    "plt.figure(figsize = ( 5 , 4 ))\n",
    "plt.boxplot([data[\"Price\"],data[\"HP\"],data[\"KM\"]])\n",
    "plt.xticks([1,2,3],[\"Price\",\"HP\",\"KM\"])\n",
    "plt.show()"
   ]
  }
 ],
 "metadata": {
  "kernelspec": {
   "display_name": "Python 3 (ipykernel)",
   "language": "python",
   "name": "python3"
  },
  "language_info": {
   "codemirror_mode": {
    "name": "ipython",
    "version": 3
   },
   "file_extension": ".py",
   "mimetype": "text/x-python",
   "name": "python",
   "nbconvert_exporter": "python",
   "pygments_lexer": "ipython3",
   "version": "3.10.9"
  }
 },
 "nbformat": 4,
 "nbformat_minor": 5
}
