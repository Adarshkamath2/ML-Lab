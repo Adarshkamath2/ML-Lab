{
 "cells": [
  {
   "cell_type": "markdown",
   "id": "e4779802",
   "metadata": {},
   "source": [
    "# 11. Single layer perceptron to implement AND, OR Boolean functions"
   ]
  },
  {
   "cell_type": "code",
   "execution_count": 2,
   "id": "9a105148",
   "metadata": {},
   "outputs": [],
   "source": [
    "import numpy as np"
   ]
  },
  {
   "cell_type": "code",
   "execution_count": 3,
   "id": "d953c9ca",
   "metadata": {},
   "outputs": [],
   "source": [
    "# Activation function (step function)\n",
    "def step_function(x):\n",
    "    return np.where(x >= 0, 1, 0)"
   ]
  },
  {
   "cell_type": "code",
   "execution_count": 4,
   "id": "538ee909",
   "metadata": {},
   "outputs": [],
   "source": [
    "# Define the training data for the AND function\n",
    "X_and = np.array([[0, 0], [0, 1], [1, 0], [1, 1]])\n",
    "y_and = np.array([[0], [0], [0], [1]])\n",
    "\n",
    "# Define the training data for the OR function\n",
    "X_or = np.array([[0, 0], [0, 1], [1, 0], [1, 1]])\n",
    "y_or = np.array([[0], [1], [1], [1]])"
   ]
  },
  {
   "cell_type": "code",
   "execution_count": 5,
   "id": "15b4c0b2",
   "metadata": {},
   "outputs": [],
   "source": [
    "# Define the Single-layer Perceptron class\n",
    "class Perceptron:\n",
    "    \n",
    "    def __init__(self, input_size, learning_rate=0.1, epochs=1000):\n",
    "        self.weights = np.zeros((input_size, 1)) # Initialize weights to zero\n",
    "        self.bias = 0 # Initialize bias to zero\n",
    "        self.learning_rate = learning_rate # Set the learning rate and the number of training epochs\n",
    "        self.epochs = epochs\n",
    "        \n",
    "    def train(self, X, y):\n",
    "        # Training process\n",
    "        for _ in range(self.epochs):\n",
    "            for inputs, label in zip(X, y):\n",
    "                # Reshape inputs to column vector\n",
    "                inputs = inputs.reshape(-1, 1)\n",
    "                # Calculate linear output\n",
    "                linear_output = np.dot(inputs.T, self.weights) + self.bias\n",
    "                # Apply step function to get the prediction\n",
    "                prediction = step_function(linear_output)\n",
    "                # Calculate the error\n",
    "                error = label - prediction\n",
    "                # Update weights and bias based on the error\n",
    "                self.weights += self.learning_rate * error * inputs\n",
    "                self.bias += self.learning_rate * error\n",
    "                \n",
    "    def predict(self, X):\n",
    "        # Prediction process\n",
    "        linear_output = np.dot(X, self.weights) + self.bias\n",
    "        return step_function(linear_output)"
   ]
  },
  {
   "cell_type": "code",
   "execution_count": 6,
   "id": "4be533ab",
   "metadata": {},
   "outputs": [],
   "source": [
    "# Training the Perceptron for AND function\n",
    "perceptron_and = Perceptron(input_size=2)\n",
    "perceptron_and.train(X_and, y_and)\n",
    "\n",
    "# Training the Perceptron for OR function\n",
    "perceptron_or = Perceptron(input_size=2)\n",
    "perceptron_or.train(X_or, y_or)"
   ]
  },
  {
   "cell_type": "code",
   "execution_count": 7,
   "id": "7bc167ae",
   "metadata": {},
   "outputs": [
    {
     "name": "stdout",
     "output_type": "stream",
     "text": [
      "AND Function Predictions:\n",
      "[[0]\n",
      " [0]\n",
      " [0]\n",
      " [1]]\n",
      "\n",
      "OR Function Predictions:\n",
      "[[0]\n",
      " [1]\n",
      " [1]\n",
      " [1]]\n"
     ]
    }
   ],
   "source": [
    "# Print training results for the AND function\n",
    "print(\"AND Function Predictions:\")\n",
    "print(perceptron_and.predict(X_and))\n",
    "\n",
    "# Print training results for the OR function\n",
    "print(\"\\nOR Function Predictions:\")\n",
    "print(perceptron_or.predict(X_or))"
   ]
  },
  {
   "cell_type": "code",
   "execution_count": 8,
   "id": "e01a4141",
   "metadata": {},
   "outputs": [
    {
     "name": "stdout",
     "output_type": "stream",
     "text": [
      "\n",
      "AND Function Prediction for input [1, 1]:\n",
      "[[1]]\n",
      "\n",
      "OR Function Prediction for input [0, 1]:\n",
      "[[1]]\n"
     ]
    }
   ],
   "source": [
    "# Manually test specific input values for the AND function\n",
    "and_test_input = np.array([[1, 1]])\n",
    "print(\"\\nAND Function Prediction for input [1, 1]:\")\n",
    "print(perceptron_and.predict(and_test_input))\n",
    "\n",
    "# Manually test specific input values for the OR function\n",
    "or_test_input = np.array([[0, 1]])\n",
    "print(\"\\nOR Function Prediction for input [0, 1]:\")\n",
    "print(perceptron_or.predict(or_test_input))"
   ]
  }
 ],
 "metadata": {
  "kernelspec": {
   "display_name": "Python 3 (ipykernel)",
   "language": "python",
   "name": "python3"
  },
  "language_info": {
   "codemirror_mode": {
    "name": "ipython",
    "version": 3
   },
   "file_extension": ".py",
   "mimetype": "text/x-python",
   "name": "python",
   "nbconvert_exporter": "python",
   "pygments_lexer": "ipython3",
   "version": "3.10.9"
  }
 },
 "nbformat": 4,
 "nbformat_minor": 5
}
