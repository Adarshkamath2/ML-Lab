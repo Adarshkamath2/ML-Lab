{
 "cells": [
  {
   "cell_type": "markdown",
   "id": "94e1d5c2",
   "metadata": {},
   "source": [
    "# 3a. MinMax Algorithm"
   ]
  },
  {
   "cell_type": "code",
   "execution_count": 1,
   "id": "85b1af7e",
   "metadata": {},
   "outputs": [],
   "source": [
    "def minmax(depth, nodeIndex, maximizingPlayer, values, path):\n",
    "    if depth == 3:\n",
    "        return values[nodeIndex], path + [nodeIndex]\n",
    "    \n",
    "    if maximizingPlayer:\n",
    "        best = float('-inf')\n",
    "        best_path = []\n",
    "        for i in range(2):\n",
    "            val, new_path = minmax(depth + 1, nodeIndex * 2 + i, False, values, path + [nodeIndex])\n",
    "            if val > best:\n",
    "                best = val\n",
    "                best_path = new_path\n",
    "        return best, best_path\n",
    "    else:\n",
    "        best = float('inf')\n",
    "        best_path = []\n",
    "        for i in range(2):\n",
    "            val, new_path = minmax(depth + 1, nodeIndex * 2 + i, True, values, path + [nodeIndex])\n",
    "            if val < best:\n",
    "                best = val\n",
    "                best_path = new_path\n",
    "        return best, best_path\n"
   ]
  },
  {
   "cell_type": "code",
   "execution_count": 2,
   "id": "f513a9f9",
   "metadata": {},
   "outputs": [
    {
     "name": "stdout",
     "output_type": "stream",
     "text": [
      "The optimal value is: 12\n",
      "The path taken is: [0, 1, 2, 4]\n"
     ]
    }
   ],
   "source": [
    "# Example tree with depth 3 and 8 terminal nodes\n",
    "values = [3, 5, 2, 9, 12, 5, 23, 23]\n",
    "\n",
    "# Start the Min-Max algorithm\n",
    "optimal_value, optimal_path = minmax(0, 0, True, values, [])\n",
    "print(\"The optimal value is:\", optimal_value)\n",
    "print(\"The path taken is:\", optimal_path)\n"
   ]
  },
  {
   "cell_type": "markdown",
   "id": "b74a94bf",
   "metadata": {},
   "source": [
    "# 3b. Heat Map"
   ]
  },
  {
   "cell_type": "code",
   "execution_count": 3,
   "id": "e8de60a8",
   "metadata": {},
   "outputs": [],
   "source": [
    "import pandas as pd\n",
    "import matplotlib.pyplot as plt\n",
    "import seaborn as sns"
   ]
  },
  {
   "cell_type": "code",
   "execution_count": 5,
   "id": "07f1adef",
   "metadata": {},
   "outputs": [
    {
     "data": {
      "image/png": "[encoded data removed]",
      "text/plain": [
       "<Figure size 500x300 with 2 Axes>"
      ]
     },
     "metadata": {},
     "output_type": "display_data"
    }
   ],
   "source": [
    "data=pd.read_csv(\"./corolla.csv\")\n",
    "plt.figure(figsize = ( 5 , 3 ))\n",
    "sns.heatmap(data[[\"Price\",\"KM\",\"Doors\", \"Weight\"]].corr(),cmap='jet')\n",
    "plt.show()"
   ]
  },
  {
   "cell_type": "code",
   "execution_count": 10,
   "id": "ee7962cc",
   "metadata": {},
   "outputs": [
    {
     "data": {
      "text/plain": [
       "0       13500\n",
       "1       13750\n",
       "2       13950\n",
       "3       14950\n",
       "4       13750\n",
       "        ...  \n",
       "1431     7500\n",
       "1432    10845\n",
       "1433     8500\n",
       "1434     7250\n",
       "1435     6950\n",
       "Name: Price, Length: 1436, dtype: int64"
      ]
     },
     "execution_count": 10,
     "metadata": {},
     "output_type": "execute_result"
    }
   ],
   "source": [
    "data[\"Price\"]"
   ]
  },
  {
   "cell_type": "code",
   "execution_count": null,
   "id": "92b54137",
   "metadata": {},
   "outputs": [],
   "source": []
  }
 ],
 "metadata": {
  "kernelspec": {
   "display_name": "Python 3 (ipykernel)",
   "language": "python",
   "name": "python3"
  },
  "language_info": {
   "codemirror_mode": {
    "name": "ipython",
    "version": 3
   },
   "file_extension": ".py",
   "mimetype": "text/x-python",
   "name": "python",
   "nbconvert_exporter": "python",
   "pygments_lexer": "ipython3",
   "version": "3.10.9"
  }
 },
 "nbformat": 4,
 "nbformat_minor": 5
}
