{
 "cells": [
  {
   "cell_type": "markdown",
   "id": "216be09c",
   "metadata": {},
   "source": [
    "1. Python Program to Left Rotate a NumPy Array by n"
   ]
  },
  {
   "cell_type": "code",
   "execution_count": 2,
   "id": "9036d522",
   "metadata": {},
   "outputs": [
    {
     "name": "stdout",
     "output_type": "stream",
     "text": [
      "Original Array: [1 2 3 4 5]\n",
      "Left rotated Array by 2 positions: [3 4 5 1 2]\n"
     ]
    }
   ],
   "source": [
    "import numpy as np\n",
    "\n",
    "def left_rotate_array(arr, n):\n",
    "    return np.roll(arr, -n)\n",
    "\n",
    "# Example usage\n",
    "arr = np.array([1, 2, 3, 4, 5])\n",
    "n = 2\n",
    "rotated_arr = left_rotate_array(arr, n)\n",
    "print(\"Original Array:\", arr)\n",
    "print(\"Left rotated Array by\", n, \"positions:\", rotated_arr)"
   ]
  },
  {
   "cell_type": "markdown",
   "id": "f18d0dd4",
   "metadata": {},
   "source": [
    "2. Python Program to Right Rotate a NumPy Array by n"
   ]
  },
  {
   "cell_type": "code",
   "execution_count": 4,
   "id": "69bcf4e7",
   "metadata": {},
   "outputs": [
    {
     "name": "stdout",
     "output_type": "stream",
     "text": [
      "Enter the array separated by spaces: 1 2 3 4 5\n",
      "Enter the number of positions to right rotate: 2\n",
      "Original Array: [1 2 3 4 5]\n",
      "Right rotated Array by 2 positions: [4 5 1 2 3]\n"
     ]
    }
   ],
   "source": [
    "import numpy as np\n",
    "\n",
    "def right_rotate_array(arr, n):\n",
    "    return np.roll(arr, n)\n",
    "\n",
    "# Input array from user\n",
    "arr = np.array(input(\"Enter the array separated by spaces: \").split(), dtype=int)\n",
    "n = int(input(\"Enter the number of positions to right rotate: \"))\n",
    "\n",
    "# Right rotate the array\n",
    "rotated_arr = right_rotate_array(arr, n)\n",
    "\n",
    "print(\"Original Array:\", arr)\n",
    "print(\"Right rotated Array by\", n, \"positions:\", rotated_arr)\n"
   ]
  },
  {
   "cell_type": "markdown",
   "id": "756b676a",
   "metadata": {},
   "source": [
    "3. Python Program to Find Smallest Item in a Tuple"
   ]
  },
  {
   "cell_type": "code",
   "execution_count": 7,
   "id": "260b2e38",
   "metadata": {},
   "outputs": [
    {
     "name": "stdout",
     "output_type": "stream",
     "text": [
      "Enter the tuple elements separated by commas: 5 2 3 1 4\n",
      "Smallest item in the tuple: 1\n"
     ]
    }
   ],
   "source": [
    "def find_smallest_in_tuple(t):\n",
    "    return min(t)\n",
    "\n",
    "# Input tuple from user\n",
    "tuple_str = input(\"Enter the tuple elements separated by commas: \")\n",
    "# Convert the input string to a tuple\n",
    "user_tuple = tuple(map(int, tuple_str.split(' ')))\n",
    "\n",
    "# Find the smallest item in the tuple\n",
    "smallest_item = find_smallest_in_tuple(user_tuple)\n",
    "print(\"Smallest item in the tuple:\", smallest_item)"
   ]
  },
  {
   "cell_type": "markdown",
   "id": "fc4ca560",
   "metadata": {},
   "source": [
    "4. Python Program to Find Largest Item in a Tuple"
   ]
  },
  {
   "cell_type": "code",
   "execution_count": 9,
   "id": "3740ba18",
   "metadata": {},
   "outputs": [
    {
     "name": "stdout",
     "output_type": "stream",
     "text": [
      "Enter the tuple elements separated by commas: 5 2 3 1 4\n",
      "Largest item in the tuple: 5\n"
     ]
    }
   ],
   "source": [
    "def find_largest_in_tuple(t):\n",
    "    return max(t)\n",
    "\n",
    "# Input tuple from user\n",
    "tuple_str = input(\"Enter the tuple elements separated by commas: \")\n",
    "# Convert the input string to a tuple\n",
    "user_tuple = tuple(map(int, tuple_str.split(' ')))\n",
    "\n",
    "# Find the largest item in the tuple\n",
    "largest_item = find_largest_in_tuple(user_tuple)\n",
    "print(\"Largest item in the tuple:\", largest_item)"
   ]
  },
  {
   "cell_type": "markdown",
   "id": "2a771793",
   "metadata": {},
   "source": [
    "5. Python Program to Print Tuple Items"
   ]
  },
  {
   "cell_type": "code",
   "execution_count": 10,
   "id": "f965027c",
   "metadata": {},
   "outputs": [
    {
     "name": "stdout",
     "output_type": "stream",
     "text": [
      "Enter the tuple elements separated by commas: 5 2 3 1 4\n",
      "Tuple items:\n",
      "5\n",
      "2\n",
      "3\n",
      "1\n",
      "4\n"
     ]
    }
   ],
   "source": [
    "def print_tuple_items(t):\n",
    "    for item in t:\n",
    "        print(item)\n",
    "\n",
    "# Input tuple from user\n",
    "tuple_str = input(\"Enter the tuple elements separated by commas: \")\n",
    "# Convert the input string to a tuple\n",
    "user_tuple = tuple(map(int, tuple_str.split(' ')))\n",
    "\n",
    "# Print tuple items\n",
    "print(\"Tuple items:\")\n",
    "print_tuple_items(user_tuple)"
   ]
  },
  {
   "cell_type": "markdown",
   "id": "b902efd7",
   "metadata": {},
   "source": [
    "6. Python Program to Find Tuple Length"
   ]
  },
  {
   "cell_type": "code",
   "execution_count": 11,
   "id": "5c64fe8e",
   "metadata": {},
   "outputs": [
    {
     "name": "stdout",
     "output_type": "stream",
     "text": [
      "Enter the tuple elements separated by commas: 5,2,3,1,4\n",
      "Length of the tuple: 5\n"
     ]
    }
   ],
   "source": [
    "def tuple_length(t):\n",
    "    return len(t)\n",
    "\n",
    "# Input tuple from user\n",
    "tuple_str = input(\"Enter the tuple elements separated by commas: \")\n",
    "# Convert the input string to a tuple\n",
    "user_tuple = tuple(map(int, tuple_str.split(',')))\n",
    "\n",
    "# Find the length of the tuple\n",
    "length = tuple_length(user_tuple)\n",
    "print(\"Length of the tuple:\", length)\n"
   ]
  },
  {
   "cell_type": "markdown",
   "id": "b2871f00",
   "metadata": {},
   "source": [
    "7. Python Program to Convert List to String"
   ]
  },
  {
   "cell_type": "code",
   "execution_count": 14,
   "id": "3211c36f",
   "metadata": {},
   "outputs": [
    {
     "name": "stdout",
     "output_type": "stream",
     "text": [
      "Enter the list elements separated by spaces: 1 2 3 4 5\n",
      "List converted to string: 1 2 3 4 5\n"
     ]
    }
   ],
   "source": [
    "def list_to_string(lst):\n",
    "    return ' '.join(lst)\n",
    "\n",
    "# Input list from user\n",
    "list_str = input(\"Enter the list elements separated by spaces: \")\n",
    "# Split the input string to create a list\n",
    "user_list = list_str.split(\" \")\n",
    "\n",
    "# Convert list to string\n",
    "result_string = list_to_string(user_list)\n",
    "print(\"List converted to string:\", result_string)\n"
   ]
  },
  {
   "cell_type": "markdown",
   "id": "629c9893",
   "metadata": {},
   "source": [
    "8. Python Program to Convert List to Tuple "
   ]
  },
  {
   "cell_type": "code",
   "execution_count": 15,
   "id": "b86c69ce",
   "metadata": {},
   "outputs": [
    {
     "name": "stdout",
     "output_type": "stream",
     "text": [
      "Enter the list elements separated by spaces: 1 2 3 4 5\n",
      "List converted to tuple: ('1', '2', '3', '4', '5')\n"
     ]
    }
   ],
   "source": [
    "def list_to_tuple(lst):\n",
    "    return tuple(lst)\n",
    "\n",
    "# Input list from user\n",
    "list_str = input(\"Enter the list elements separated by spaces: \")\n",
    "# Split the input string to create a list\n",
    "user_list = list_str.split()\n",
    "\n",
    "# Convert list to tuple\n",
    "result_tuple = list_to_tuple(user_list)\n",
    "print(\"List converted to tuple:\", result_tuple)\n"
   ]
  },
  {
   "cell_type": "markdown",
   "id": "8d6d6a95",
   "metadata": {},
   "source": [
    "9. Python program to Count words in a String using Dictionary"
   ]
  },
  {
   "cell_type": "code",
   "execution_count": 18,
   "id": "128cfd5f",
   "metadata": {},
   "outputs": [
    {
     "name": "stdout",
     "output_type": "stream",
     "text": [
      "Enter a sentence: thinking of thinking of thinking of thinking what to think of what to think of what\n",
      "Word counts:\n",
      "thinking: 4\n",
      "of: 5\n",
      "what: 3\n",
      "to: 2\n",
      "think: 2\n"
     ]
    }
   ],
   "source": [
    "def count_words(sentence):\n",
    "    # Split the sentence into words\n",
    "    words = sentence.split()\n",
    "\n",
    "    # Create an empty dictionary to store word counts\n",
    "    word_count = {}\n",
    "\n",
    "    # Iterate over each word in the list of words\n",
    "    for word in words:\n",
    "        # If the word is already in the dictionary, increment its count\n",
    "        if word in word_count:\n",
    "            word_count[word] += 1\n",
    "        # If the word is not in the dictionary, add it with count 1\n",
    "        else:\n",
    "            word_count[word] = 1\n",
    "\n",
    "    return word_count\n",
    "\n",
    "# Input string from user\n",
    "sentence = input(\"Enter a sentence: \")\n",
    "\n",
    "# Count words in the string\n",
    "word_counts = count_words(sentence)\n",
    "\n",
    "# Print the word counts\n",
    "print(\"Word counts:\")\n",
    "for word, count in word_counts.items():\n",
    "    print(f\"{word}: {count}\")\n"
   ]
  },
  {
   "cell_type": "code",
   "execution_count": null,
   "id": "0cd79f3d",
   "metadata": {},
   "outputs": [],
   "source": []
  }
 ],
 "metadata": {
  "kernelspec": {
   "display_name": "Python 3 (ipykernel)",
   "language": "python",
   "name": "python3"
  },
  "language_info": {
   "codemirror_mode": {
    "name": "ipython",
    "version": 3
   },
   "file_extension": ".py",
   "mimetype": "text/x-python",
   "name": "python",
   "nbconvert_exporter": "python",
   "pygments_lexer": "ipython3",
   "version": "3.10.9"
  }
 },
 "nbformat": 4,
 "nbformat_minor": 5
}
